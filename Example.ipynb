{
 "cells": [
  {
   "cell_type": "markdown",
   "metadata": {},
   "source": [
    "## HaloFeedback\n",
    "\n",
    "**Units:**\n",
    "    - Masses [M_sun]\n",
    "    - Times [s]\n",
    "    - Distances [pc]\n",
    "    - Speeds [km/s]"
   ]
  },
  {
   "cell_type": "code",
   "execution_count": 1,
   "metadata": {},
   "outputs": [],
   "source": [
    "import numpy as np\n",
    "import matplotlib.pyplot as plt"
   ]
  },
  {
   "cell_type": "code",
   "execution_count": 2,
   "metadata": {},
   "outputs": [],
   "source": [
    "import HaloFeedback"
   ]
  },
  {
   "cell_type": "markdown",
   "metadata": {},
   "source": [
    "#### Initialisation\n",
    "\n",
    "Initialise a distribution function:"
   ]
  },
  {
   "cell_type": "code",
   "execution_count": 5,
   "metadata": {},
   "outputs": [
    {
     "name": "stdout",
     "output_type": "stream",
     "text": [
      "2.3333333333333335\n",
      "1000.0  M_sun\n",
      "1.0  M_sun\n",
      "226  M_sun/pc^3\n"
     ]
    }
   ],
   "source": [
    "DF1 = HaloFeedback.DistributionFunction()\n",
    "\n",
    "#This defaults to some standard values for the \n",
    "#density profile and masses:\n",
    "\n",
    "print(DF1.gamma)\n",
    "print(DF1.M_BH, \" M_sun\")\n",
    "print(DF1.M_NS, \" M_sun\")\n",
    "print(DF1.rho_sp, \" M_sun/pc^3\")"
   ]
  },
  {
   "cell_type": "markdown",
   "metadata": {},
   "source": [
    "Otherwise, you can specify the values you're interested in:"
   ]
  },
  {
   "cell_type": "code",
   "execution_count": 6,
   "metadata": {},
   "outputs": [],
   "source": [
    "DF2 = HaloFeedback.DistributionFunction(gamma = 2.5, M_BH = 1e4, M_NS = 1, rho_sp = 226.)"
   ]
  },
  {
   "cell_type": "markdown",
   "metadata": {},
   "source": [
    "#### Extracting the density\n",
    "\n",
    "The density at a given radius is extracted with:"
   ]
  },
  {
   "cell_type": "code",
   "execution_count": 8,
   "metadata": {},
   "outputs": [
    {
     "data": {
      "text/plain": [
       "3.2998630442367827e+22"
      ]
     },
     "execution_count": 8,
     "metadata": {},
     "output_type": "execute_result"
    }
   ],
   "source": [
    "DF2.rho(1e-8)"
   ]
  },
  {
   "cell_type": "markdown",
   "metadata": {},
   "source": [
    "This calculates the density numerically from the internally stored distribution function $f(\\mathcal{E})$.\n",
    "\n",
    "If we want to calculate the density of particles at a given radius with speeds below some v_cut, then we can do:"
   ]
  },
  {
   "cell_type": "code",
   "execution_count": 14,
   "metadata": {},
   "outputs": [
    {
     "data": {
      "text/plain": [
       "1.0263925607183992e+20"
      ]
     },
     "execution_count": 14,
     "metadata": {},
     "output_type": "execute_result"
    }
   ],
   "source": [
    "DF2.rho(1e-8, v_cut = 1e4)"
   ]
  },
  {
   "cell_type": "markdown",
   "metadata": {},
   "source": [
    "#### Evolving the system\n",
    "\n",
    "The internal distribution function $f(\\mathcal{E})$ is stored as a grid over $\\mathcal{E}$ values:"
   ]
  },
  {
   "cell_type": "code",
   "execution_count": 16,
   "metadata": {},
   "outputs": [
    {
     "data": {
      "text/plain": [
       "array([1.49792530e+10, 1.49564779e+10, 1.49337375e+10, ...,\n",
       "       3.70902548e+03, 3.70338613e+03, 3.69775535e+03])"
      ]
     },
     "execution_count": 16,
     "metadata": {},
     "output_type": "execute_result"
    }
   ],
   "source": [
    "DF2.eps_grid"
   ]
  },
  {
   "cell_type": "code",
   "execution_count": 17,
   "metadata": {},
   "outputs": [
    {
     "data": {
      "text/plain": [
       "array([8.59131345e+07, 8.57825087e+07, 8.56520815e+07, ...,\n",
       "       2.12730238e+01, 2.12406794e+01, 2.12083843e+01])"
      ]
     },
     "execution_count": 17,
     "metadata": {},
     "output_type": "execute_result"
    }
   ],
   "source": [
    "DF2.f_eps"
   ]
  },
  {
   "cell_type": "markdown",
   "metadata": {},
   "source": [
    "For a compact object at radius $r_0$ with velocity $v_0$, the time derivative of the distribution function can be calculated using:"
   ]
  },
  {
   "cell_type": "code",
   "execution_count": 20,
   "metadata": {},
   "outputs": [
    {
     "data": {
      "text/plain": [
       "array([0.00000000e+00, 0.00000000e+00, 0.00000000e+00, ...,\n",
       "       6.57611942e-16, 6.55115144e-16, 6.52627826e-16])"
      ]
     },
     "execution_count": 20,
     "metadata": {},
     "output_type": "execute_result"
    }
   ],
   "source": [
    "r0 = 1e-8 #pc\n",
    "v0 = 5e4 #km/s\n",
    "DF2.dfdt(r0, v0)"
   ]
  },
  {
   "cell_type": "markdown",
   "metadata": {},
   "source": [
    "Again, if we want to scatter only with particles with speed smaller than some v_cut, we can use:"
   ]
  },
  {
   "cell_type": "code",
   "execution_count": 25,
   "metadata": {},
   "outputs": [
    {
     "data": {
      "text/plain": [
       "array([0., 0., 0., ..., 0., 0., 0.])"
      ]
     },
     "execution_count": 25,
     "metadata": {},
     "output_type": "execute_result"
    }
   ],
   "source": [
    "DF2.dfdt(r0, v0, v_cut = 2e4)"
   ]
  },
  {
   "cell_type": "markdown",
   "metadata": {},
   "source": [
    "Note that typically v_cut will be equal to the orbital speed of the compact object.\n",
    "\n",
    "Finally, then, we update the internal distribution function using:"
   ]
  },
  {
   "cell_type": "code",
   "execution_count": 29,
   "metadata": {},
   "outputs": [],
   "source": [
    "dt = 1 #second\n",
    "DF2.f_eps += DF2.dfdt(r0, v0, v_cut = 2e4)*dt\n",
    "#In the 'EvolutionPlot.py' file, I evolve using the improved Euler method, which should be more stable..."
   ]
  },
  {
   "cell_type": "markdown",
   "metadata": {},
   "source": [
    "Then we can recompute the density:"
   ]
  },
  {
   "cell_type": "code",
   "execution_count": 30,
   "metadata": {},
   "outputs": [
    {
     "data": {
      "text/plain": [
       "3.2998630621311138e+22"
      ]
     },
     "execution_count": 30,
     "metadata": {},
     "output_type": "execute_result"
    }
   ],
   "source": [
    "DF2.rho(r0)"
   ]
  },
  {
   "cell_type": "code",
   "execution_count": null,
   "metadata": {},
   "outputs": [],
   "source": []
  }
 ],
 "metadata": {
  "kernelspec": {
   "display_name": "Python 3",
   "language": "python",
   "name": "python3"
  },
  "language_info": {
   "codemirror_mode": {
    "name": "ipython",
    "version": 3
   },
   "file_extension": ".py",
   "mimetype": "text/x-python",
   "name": "python",
   "nbconvert_exporter": "python",
   "pygments_lexer": "ipython3",
   "version": "3.6.4"
  }
 },
 "nbformat": 4,
 "nbformat_minor": 2
}
